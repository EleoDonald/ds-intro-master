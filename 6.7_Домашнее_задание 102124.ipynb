{
 "cells": [
  {
   "cell_type": "markdown",
   "metadata": {
    "id": "3iE7SlVLJzFj"
   },
   "source": [
    "# Условия. Домашнее задание\n",
    "\n",
    "### Цели домашнего задания \n",
    "- Научиться самостоятельно писать программы с условиями, используя конструкции if, elif, else. \n",
    "- Повторить условные операторы. \n",
    "- Научиться обходить ошибки.\n",
    "\n",
    "### Что нужно сделать\n",
    "Скачайте файл с описанием задания, откройте его через Jupyter Notebook и выполните предложенные задачи.\n",
    "\n",
    "### Что оценивается\n",
    "Для каждой задачи:\n",
    "- Программа выполняет все описанные в задаче действия.\n",
    "- Результаты вычислений и применённых операций корректны.\n",
    "- Вывод производится в том виде, который описан в задаче.\n",
    "- Переменные имеют информативные названия.\n",
    "\n",
    "Работа засчитывается, если в каждой задаче вы верно выполнили хотя бы один из вариантов.\n",
    "\n",
    "### Как отправить задание на проверку\n",
    "Выполните предложенные задачи, сохраните изменения, используя опцию Save and Checkpoint из вкладки меню File или кнопку Save and Checkpoint на панели инструментов. Итоговый файл .ipynb (файл Jupyter Notebook) или ссылку на него отправьте через форму ниже.\n"
   ]
  },
  {
   "cell_type": "markdown",
   "metadata": {
    "id": "ox1eK32yNqUe"
   },
   "source": [
    "1. Напишите программу, которая запрашивает на ввод целое число, проверяет, является ли число чётным. Если число чётное — выводит на экран «Это чётное число», если число нечётное — выводит «Это нечётное число»."
   ]
  },
  {
   "cell_type": "code",
   "execution_count": 1,
   "metadata": {},
   "outputs": [
    {
     "name": "stdout",
     "output_type": "stream",
     "text": [
      "^C\n",
      "Found existing installation: notebook 7.0.8Note: you may need to restart the kernel to use updated packages.\n",
      "\n",
      "Uninstalling notebook-7.0.8:\n",
      "  Would remove:\n",
      "    c:\\users\\geare\\anaconda3\\etc\\jupyter\\jupyter_server_config.d\\notebook.json\n",
      "    c:\\users\\geare\\anaconda3\\lib\\site-packages\\notebook-7.0.8.dist-info\\*\n",
      "    c:\\users\\geare\\anaconda3\\lib\\site-packages\\notebook\\*\n",
      "    c:\\users\\geare\\anaconda3\\scripts\\jupyter-notebook-script.py\n",
      "    c:\\users\\geare\\anaconda3\\scripts\\jupyter-notebook.exe\n",
      "    c:\\users\\geare\\anaconda3\\share\\applications\\jupyter-notebook.desktop\n",
      "    c:\\users\\geare\\anaconda3\\share\\icons\\hicolor\\scalable\\apps\\notebook.svg\n",
      "    c:\\users\\geare\\anaconda3\\share\\jupyter\\lab\\schemas\\@jupyter-notebook\\application-extension\\menus.json\n",
      "    c:\\users\\geare\\anaconda3\\share\\jupyter\\lab\\schemas\\@jupyter-notebook\\application-extension\\package.json.orig\n",
      "    c:\\users\\geare\\anaconda3\\share\\jupyter\\lab\\schemas\\@jupyter-notebook\\application-extension\\pages.json\n",
      "    c:\\users\\geare\\anaconda3\\share\\jupyter\\lab\\schemas\\@jupyter-notebook\\application-extension\\shell.json\n",
      "    c:\\users\\geare\\anaconda3\\share\\jupyter\\lab\\schemas\\@jupyter-notebook\\application-extension\\title.json\n",
      "    c:\\users\\geare\\anaconda3\\share\\jupyter\\lab\\schemas\\@jupyter-notebook\\application-extension\\top.json\n",
      "    c:\\users\\geare\\anaconda3\\share\\jupyter\\lab\\schemas\\@jupyter-notebook\\application-extension\\zen.json\n",
      "    c:\\users\\geare\\anaconda3\\share\\jupyter\\lab\\schemas\\@jupyter-notebook\\documentsearch-extension\\package.json.orig\n",
      "    c:\\users\\geare\\anaconda3\\share\\jupyter\\lab\\schemas\\@jupyter-notebook\\help-extension\\open.json\n",
      "    c:\\users\\geare\\anaconda3\\share\\jupyter\\lab\\schemas\\@jupyter-notebook\\help-extension\\package.json.orig\n",
      "    c:\\users\\geare\\anaconda3\\share\\jupyter\\lab\\schemas\\@jupyter-notebook\\notebook-extension\\checkpoints.json\n",
      "    c:\\users\\geare\\anaconda3\\share\\jupyter\\lab\\schemas\\@jupyter-notebook\\notebook-extension\\kernel-logo.json\n",
      "    c:\\users\\geare\\anaconda3\\share\\jupyter\\lab\\schemas\\@jupyter-notebook\\notebook-extension\\package.json.orig\n",
      "    c:\\users\\geare\\anaconda3\\share\\jupyter\\lab\\schemas\\@jupyter-notebook\\notebook-extension\\scroll-output.json\n",
      "    c:\\users\\geare\\anaconda3\\share\\jupyter\\lab\\schemas\\@jupyter-notebook\\tree-extension\\file-actions.json\n",
      "    c:\\users\\geare\\anaconda3\\share\\jupyter\\lab\\schemas\\@jupyter-notebook\\tree-extension\\package.json.orig\n",
      "    c:\\users\\geare\\anaconda3\\share\\jupyter\\lab\\schemas\\@jupyter-notebook\\tree-extension\\widget.json\n",
      "    c:\\users\\geare\\anaconda3\\share\\jupyter\\labextensions\\@jupyter-notebook\\lab-extension\\package.json\n",
      "    c:\\users\\geare\\anaconda3\\share\\jupyter\\labextensions\\@jupyter-notebook\\lab-extension\\schemas\\@jupyter-notebook\\lab-extension\\interface-switcher.json\n",
      "    c:\\users\\geare\\anaconda3\\share\\jupyter\\labextensions\\@jupyter-notebook\\lab-extension\\schemas\\@jupyter-notebook\\lab-extension\\launch-tree.json\n",
      "    c:\\users\\geare\\anaconda3\\share\\jupyter\\labextensions\\@jupyter-notebook\\lab-extension\\schemas\\@jupyter-notebook\\lab-extension\\package.json.orig\n",
      "    c:\\users\\geare\\anaconda3\\share\\jupyter\\labextensions\\@jupyter-notebook\\lab-extension\\static\\52.b2c4b450ddfdb9a2da29.js\n",
      "    c:\\users\\geare\\anaconda3\\share\\jupyter\\labextensions\\@jupyter-notebook\\lab-extension\\static\\568.013352bd01375b7346b5.js\n",
      "    c:\\users\\geare\\anaconda3\\share\\jupyter\\labextensions\\@jupyter-notebook\\lab-extension\\static\\928.311d81a68bd10b5b2ae0.js\n",
      "    c:\\users\\geare\\anaconda3\\share\\jupyter\\labextensions\\@jupyter-notebook\\lab-extension\\static\\93.eddcbb0f5a946c74796b.js\n",
      "    c:\\users\\geare\\anaconda3\\share\\jupyter\\labextensions\\@jupyter-notebook\\lab-extension\\static\\remoteentry.0dca0b46350f0c25c608.js\n",
      "    c:\\users\\geare\\anaconda3\\share\\jupyter\\labextensions\\@jupyter-notebook\\lab-extension\\static\\style.js\n",
      "    c:\\users\\geare\\anaconda3\\share\\jupyter\\labextensions\\@jupyter-notebook\\lab-extension\\static\\third-party-licenses.json\n",
      "Proceed (Y/n)? \n"
     ]
    }
   ],
   "source": [
    "pip uninstall notebook"
   ]
  },
  {
   "cell_type": "markdown",
   "metadata": {
    "id": "DLvHACXEQEND"
   },
   "source": [
    "2. Напишите программу, которая запрашивает на ввод число и проверяет, является ли оно положительным или отрицательным. Если число положительное — программа умножает его на два и выводит на экран новое значение. Если число отрицательное — делит его на три и выводит на экран новое значение. Если ввели ноль — выводит сообщение, что введённое число равно нулю."
   ]
  },
  {
   "cell_type": "markdown",
   "metadata": {
    "id": "KWpUGm0LSAnR"
   },
   "source": [
    "3. Напишите программу, которая запрашивает на ввод целое число. Если квадрат этого числа больше или равен 100, программа должна сообщить, что это двузначное число. После этого нужно проверить, положительное оно или отрицательное, и вывести ответ на экран. Если квадрат числа меньше 100, надо проверить, чётное оно или нечётное и также вывести ответ на экран.\n"
   ]
  },
  {
   "cell_type": "code",
   "execution_count": 3,
   "metadata": {
    "id": "fmzq6ttNRIlq"
   },
   "outputs": [
    {
     "name": "stdin",
     "output_type": "stream",
     "text": [
      "Введите первое число:  7\n"
     ]
    },
    {
     "name": "stdout",
     "output_type": "stream",
     "text": [
      "14.0\n"
     ]
    }
   ],
   "source": [
    "num = float(input('Введите первое число: '))\n",
    "if num > 0:\n",
    "    print(num * 2)\n",
    "elif num < 0:\n",
    "    print(num / 3)\n",
    "elif num == 0:\n",
    "    print('введённое число равно нулю')"
   ]
  },
  {
   "cell_type": "code",
   "execution_count": 1,
   "metadata": {},
   "outputs": [
    {
     "name": "stdin",
     "output_type": "stream",
     "text": [
      " 56\n"
     ]
    },
    {
     "name": "stdout",
     "output_type": "stream",
     "text": [
      "двухзнач число\n",
      "положительное число\n"
     ]
    }
   ],
   "source": [
    "a = int(input())\n",
    "\n",
    "if a**2 > 100:\n",
    "    \n",
    " print('двухзнач число')\n",
    "\n",
    " if a > 0:\n",
    "        \n",
    "    print('положительное число')\n",
    "    \n",
    " else:\n",
    "    \n",
    "    print('отрицат число')\n",
    "    \n",
    "elif a**2 < 100:\n",
    "    \n",
    "    print('не двухзначное число')\n",
    "    \n",
    "    if a % 2 == 100:\n",
    "        \n",
    "      print('четное число')\n",
    "    \n",
    "    else:\n",
    "    \n",
    "     print('нечетное число')"
   ]
  },
  {
   "cell_type": "markdown",
   "metadata": {
    "id": "G6zmz--CVg-h"
   },
   "source": [
    "4. Напишите одну и ту же программу тремя способами. Программа должна запрашивать на ввод любое значение. Если на ввод ничего не получено, программа должна выводить сообщение «Вы ничего не ввели». Если получено хоть что-то, программа должна выводить на экран то, что она получила на ввод.\n",
    "Напишите три варианта: используя оператор not, используя оператор сравнения != и используя переменную в качестве булева значения."
   ]
  },
  {
   "cell_type": "code",
   "execution_count": 3,
   "metadata": {
    "id": "zTDAGFQBRRn2"
   },
   "outputs": [
    {
     "name": "stdin",
     "output_type": "stream",
     "text": [
      "Enter your value: 79\n"
     ]
    },
    {
     "name": "stdout",
     "output_type": "stream",
     "text": [
      "Вы ввели слово 79\n"
     ]
    }
   ],
   "source": [
    "word = str(input('Enter your value:'))\n",
    "if not word:\n",
    " print('Вы ничего не ввели')\n",
    "else: \n",
    " print('Вы ввели слово', word)"
   ]
  },
  {
   "cell_type": "code",
   "execution_count": 5,
   "metadata": {},
   "outputs": [
    {
     "name": "stdin",
     "output_type": "stream",
     "text": [
      "Enter your value:  79\n"
     ]
    },
    {
     "name": "stdout",
     "output_type": "stream",
     "text": [
      "Вы ввели: 79\n"
     ]
    }
   ],
   "source": [
    "word = input('Enter your value: ')\n",
    "if word != '':\n",
    "    print('Вы ввели:', word)\n",
    "else:\n",
    "    print('Вы ничего не ввели')"
   ]
  },
  {
   "cell_type": "code",
   "execution_count": 6,
   "metadata": {},
   "outputs": [
    {
     "name": "stdin",
     "output_type": "stream",
     "text": [
      "Enter your value:  89\n"
     ]
    },
    {
     "name": "stdout",
     "output_type": "stream",
     "text": [
      "Вы ввели: 89\n"
     ]
    }
   ],
   "source": [
    "word = input('Enter your value: ')\n",
    "if word:\n",
    "    print('Вы ввели:', word)\n",
    "else:\n",
    "    print('Вы ничего не ввели')"
   ]
  },
  {
   "cell_type": "code",
   "execution_count": 7,
   "metadata": {
    "id": "xphTS5YvW14J"
   },
   "outputs": [
    {
     "name": "stdin",
     "output_type": "stream",
     "text": [
      "Enter any value: ten\n"
     ]
    },
    {
     "name": "stdout",
     "output_type": "stream",
     "text": [
      "Вы  ввели слово\n"
     ]
    }
   ],
   "source": [
    "word = str(input('Enter any value:'))\n",
    "if word:\n",
    "    print('Вы  ввели слово')\n",
    "else:\n",
    "    print('Вы ввели ничего')"
   ]
  },
  {
   "cell_type": "code",
   "execution_count": 8,
   "metadata": {},
   "outputs": [
    {
     "name": "stdin",
     "output_type": "stream",
     "text": [
      "Enter your number: 89\n"
     ]
    },
    {
     "name": "stdout",
     "output_type": "stream",
     "text": [
      "Вы  ввели число\n"
     ]
    }
   ],
   "source": [
    "a = int(input('Enter your number:'))\n",
    "if a != 0: \n",
    "    print('Вы  ввели число') \n",
    "else:\n",
    "    print('Вы ввели ничего') "
   ]
  },
  {
   "cell_type": "code",
   "execution_count": 9,
   "metadata": {},
   "outputs": [
    {
     "name": "stdin",
     "output_type": "stream",
     "text": [
      "Enter any value: me\n"
     ]
    },
    {
     "name": "stdout",
     "output_type": "stream",
     "text": [
      "Вы  ввели слово\n"
     ]
    }
   ],
   "source": [
    "word = str(input('Enter any value:'))\n",
    "if word != '':\n",
    "    print('Вы  ввели слово')\n",
    "else:\n",
    "    print('Вы ввели ничего')"
   ]
  },
  {
   "cell_type": "markdown",
   "metadata": {
    "id": "HpvK5UU2YwqM"
   },
   "source": [
    "5. В приведённом ниже примере поправьте отступы так, чтобы программа исполнялась корректно."
   ]
  },
  {
   "cell_type": "code",
   "execution_count": 11,
   "metadata": {
    "id": "M2c71k3obLcc"
   },
   "outputs": [
    {
     "name": "stdin",
     "output_type": "stream",
     "text": [
      "Введите целое число 6\n"
     ]
    },
    {
     "name": "stdout",
     "output_type": "stream",
     "text": [
      "Квадрат введенного числа равен 25\n"
     ]
    }
   ],
   "source": [
    "number = int(input('Введите целое число'))\n",
    "square = 25\n",
    "cubed = 75\n",
    "if number >= 5 or 5 == number ** 2:\n",
    "      print('Квадрат введенного числа равен', square)\n",
    "else: \n",
    "      print('Куб введенного числа равен', cubed)"
   ]
  },
  {
   "cell_type": "code",
   "execution_count": 12,
   "metadata": {},
   "outputs": [
    {
     "name": "stdin",
     "output_type": "stream",
     "text": [
      "Введите целое число 4\n"
     ]
    },
    {
     "name": "stdout",
     "output_type": "stream",
     "text": [
      "Куб введенного числа равен 64\n"
     ]
    }
   ],
   "source": [
    "number = int(input('Введите целое число'))\n",
    "square = number ** 2\n",
    "cubed = number ** 3\n",
    "if number ** 2 == 25:\n",
    "    print('Квадрат введенного числа равен', square)\n",
    "else: \n",
    "    print('Куб введенного числа равен', cubed)"
   ]
  },
  {
   "cell_type": "code",
   "execution_count": 13,
   "metadata": {},
   "outputs": [
    {
     "name": "stdin",
     "output_type": "stream",
     "text": [
      "Введите целое число 40\n"
     ]
    },
    {
     "name": "stdout",
     "output_type": "stream",
     "text": [
      "Куб введенного числа равен 64000\n"
     ]
    }
   ],
   "source": [
    "number = int(input('Введите целое число'))\n",
    "square = number ** 2\n",
    "cubed = number ** 3\n",
    "if number ** 2 == 25:\n",
    "    print('Квадрат введенного числа равен', square)\n",
    "else: \n",
    "    print('Куб введенного числа равен', cubed)"
   ]
  },
  {
   "cell_type": "markdown",
   "metadata": {
    "id": "9XFupGaMeYhH"
   },
   "source": [
    "6. В приведённом примере поправьте отступы так, чтобы ответы программы стали логически соответствовать введённым параметрам."
   ]
  },
  {
   "cell_type": "markdown",
   "metadata": {
    "id": "9XFupGaMeYhH"
   },
   "source": [
    "6. В приведённом примере поправьте отступы так, чтобы ответы программы стали логически соответствовать введённым параметрам."
   ]
  },
  {
   "cell_type": "code",
   "execution_count": 15,
   "metadata": {
    "id": "TxJ5HgsKa5Mg"
   },
   "outputs": [
    {
     "name": "stdin",
     "output_type": "stream",
     "text": [
      "У вас кошка или собака? собака\n",
      "Сколько он/она весит? 34\n"
     ]
    },
    {
     "name": "stdout",
     "output_type": "stream",
     "text": [
      "У вас собака - замечательно!\n",
      "Понятно, это большая собака\n"
     ]
    }
   ],
   "source": [
    "animal = input(\"У вас кошка или собака?\")\n",
    "weight = float(input(\"Сколько он/она весит?\"))\n",
    "\n",
    "if animal == 'кошка':\n",
    "    \n",
    "    print('У вас кошка - это прекрасно!')\n",
    "    \n",
    "elif animal == 'собака':\n",
    "    \n",
    "    print('У вас собака - замечательно!')\n",
    "    \n",
    "    if weight > 20:\n",
    "        \n",
    "        print(\"Понятно, это большая собака\")\n",
    "    \n",
    "else:  \n",
    "    \n",
    "    print(\"У вас не собака и не кошка. Ясно.\")\n",
    "    "
   ]
  },
  {
   "cell_type": "code",
   "execution_count": 1,
   "metadata": {},
   "outputs": [
    {
     "name": "stdin",
     "output_type": "stream",
     "text": [
      "У вас кошка или собака?  кошка\n",
      "Сколько он/она весит?  56\n"
     ]
    },
    {
     "name": "stdout",
     "output_type": "stream",
     "text": [
      "У вас кошка - это прекрасно!\n",
      "Понятно, это крупная кошка\n"
     ]
    }
   ],
   "source": [
    "animal = input(\"У вас кошка или собака? \")\n",
    "weight = float(input(\"Сколько он/она весит? \"))\n",
    "\n",
    "if animal == 'кошка':\n",
    "    print('У вас кошка - это прекрасно!')\n",
    "    if weight > 5:\n",
    "        print(\"Понятно, это крупная кошка\")\n",
    "    else:\n",
    "        print(\"Понятно, это кошка обычного размера\")\n",
    "elif animal == 'собака':\n",
    "    print('У вас собака - замечательно!')\n",
    "    if weight > 20:\n",
    "        print(\"Понятно, это большая собака\")\n",
    "    else:\n",
    "        print(\"Понятно, это небольшая или средняя собака\")\n",
    "else:\n",
    "    print(\"У вас не собака и не кошка. Ясно.\")"
   ]
  },
  {
   "cell_type": "markdown",
   "metadata": {
    "id": "muWVQqbRmzVl"
   },
   "source": [
    "7. Предположим, что вы (внезапно!) занимаетесь программой улучшения жилищных условий населения. Вы работаете с базой данных, где есть информация о жилой площади квартир и количестве зарегистрированных в них людей. У вас есть простая программа, которая принимает на ввод два этих параметра, а на печать выводит площадь, делённую на количество жильцов."
   ]
  },
  {
   "cell_type": "code",
   "execution_count": 4,
   "metadata": {
    "id": "1IEQ9SqFk3_f"
   },
   "outputs": [
    {
     "name": "stdin",
     "output_type": "stream",
     "text": [
      "Введите площадь квартиры 90\n",
      "Введите количество зарегистрированных жильцов 5\n"
     ]
    },
    {
     "name": "stdout",
     "output_type": "stream",
     "text": [
      "На каждого жильца приходится по 18.0 квадратных метров жилой площади\n"
     ]
    }
   ],
   "source": [
    "space = float(input('Введите площадь квартиры'))\n",
    "residents = int(input('Введите количество зарегистрированных жильцов'))\n",
    "print('На каждого жильца приходится по', space / residents, 'квадратных метров жилой площади')"
   ]
  },
  {
   "cell_type": "markdown",
   "metadata": {
    "id": "XNhqI1jDpXmm"
   },
   "source": [
    "Но есть такие квартиры, где никто не зарегистрирован. И когда вы вводите количество жильцов, равное нулю, программа выдаёт ошибку, потому что делить на ноль нельзя.\n",
    "\n",
    "Измените программу так, чтобы она выполнялась даже при введения нуля в знаменателе и вместо ошибки выводила сообщение о том, что не удалось посчитать значение.\n",
    "\n",
    "Сделайте это двумя способами: с помощью условий if, else и с помощью конструкции try, except.\n"
   ]
  },
  {
   "cell_type": "code",
   "execution_count": 7,
   "metadata": {
    "id": "hhdkS4okpE1d"
   },
   "outputs": [
    {
     "name": "stdin",
     "output_type": "stream",
     "text": [
      "Введите площадь квартиры 45\n",
      "Введите количество зарегистрированных жильцов 6\n"
     ]
    },
    {
     "name": "stdout",
     "output_type": "stream",
     "text": [
      "деление выполнить нельзя\n"
     ]
    }
   ],
   "source": [
    "space = float(input('Введите площадь квартиры'))\n",
    "residents = int(input('Введите количество зарегистрированных жильцов'))\n",
    "if space == residents:\n",
    "    print('квадратных метров жилой площади', space / residents, 'количество зарегистрированных жильцов')\n",
    "else: \n",
    "    print('деление выполнить нельзя')"
   ]
  },
  {
   "cell_type": "code",
   "execution_count": 8,
   "metadata": {
    "id": "O-q-AtlQreG6"
   },
   "outputs": [
    {
     "name": "stdin",
     "output_type": "stream",
     "text": [
      "Введите площадь квартиры 67\n",
      "Введите количество зарегистрированных жильцов 6\n"
     ]
    },
    {
     "name": "stdout",
     "output_type": "stream",
     "text": [
      "квадратных метров жилой площади 11.166666666666666 квадратных метров жилой площадиколичество зарегистрированных жильцов\n",
      "все!\n"
     ]
    }
   ],
   "source": [
    "space = float(input('Введите площадь квартиры'))\n",
    "residents = int(input('Введите количество зарегистрированных жильцов'))\n",
    "if not residents == 0:\n",
    "    print('квадратных метров жилой площади', space / residents, 'квадратных метров жилой площади''количество зарегистрированных жильцов',)\n",
    "else: \n",
    "    print('деление выполнить нельзя')\n",
    "try:\n",
    "    result = space / residents                                \n",
    "except:\n",
    "    print( \"Не удалось посчитать значение жильцов\" ) \n",
    "finally:\n",
    "    print(\"все!\")"
   ]
  },
  {
   "cell_type": "code",
   "execution_count": null,
   "metadata": {},
   "outputs": [],
   "source": []
  }
 ],
 "metadata": {
  "colab": {
   "collapsed_sections": [],
   "name": "6.7_Домашнее_задание.ipynb",
   "provenance": []
  },
  "kernelspec": {
   "display_name": "Python 3 (ipykernel)",
   "language": "python",
   "name": "python3"
  },
  "language_info": {
   "codemirror_mode": {
    "name": "ipython",
    "version": 3
   },
   "file_extension": ".py",
   "mimetype": "text/x-python",
   "name": "python",
   "nbconvert_exporter": "python",
   "pygments_lexer": "ipython3",
   "version": "3.12.4"
  }
 },
 "nbformat": 4,
 "nbformat_minor": 4
}
